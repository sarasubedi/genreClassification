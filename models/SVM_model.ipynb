{
 "cells": [
  {
   "cell_type": "markdown",
   "metadata": {},
   "source": [
    "## Setting up SVM"
   ]
  },
  {
   "cell_type": "code",
   "execution_count": 24,
   "metadata": {},
   "outputs": [],
   "source": [
    "import pandas as pd\n",
    "from sklearn.model_selection import train_test_split\n",
    "from sklearn.preprocessing import StandardScaler\n",
    "from sklearn.svm import SVC\n",
    "from sklearn.metrics import classification_report, accuracy_score\n",
    "import numpy as np\n",
    "import matplotlib.pyplot as plt"
   ]
  },
  {
   "cell_type": "code",
   "execution_count": 27,
   "metadata": {},
   "outputs": [
    {
     "name": "stderr",
     "output_type": "stream",
     "text": [
      "/var/folders/55/m9y_rpf97z3cqtjh65x7xy8c0000gn/T/ipykernel_74413/3846289340.py:2: DtypeWarning: Columns (17,18,19,20,21,22,23,24,25,26,27,28,29,30,31) have mixed types. Specify dtype option on import or set low_memory=False.\n",
      "  data = pd.read_csv(dataPath, delimiter='\\t')\n"
     ]
    }
   ],
   "source": [
    "dataPath = '../data/acousticbrainz-mediaeval-discogs-train.tsv'\n",
    "data = pd.read_csv(dataPath, delimiter='\\t')"
   ]
  },
  {
   "cell_type": "markdown",
   "metadata": {},
   "source": [
    "# the column names in the data file"
   ]
  },
  {
   "cell_type": "code",
   "execution_count": 23,
   "metadata": {},
   "outputs": [
    {
     "name": "stdout",
     "output_type": "stream",
     "text": [
      "Index(['recordingmbid', 'releasegroupmbid', 'genre1', 'genre2', 'genre3',\n",
      "       'genre4', 'genre5', 'genre6', 'genre7', 'genre8', 'genre9', 'genre10',\n",
      "       'genre11', 'genre12', 'genre13', 'genre14', 'genre15', 'genre16',\n",
      "       'genre17', 'genre18', 'genre19', 'genre20', 'genre21', 'genre22',\n",
      "       'genre23', 'genre24', 'genre25', 'genre26', 'genre27', 'genre28',\n",
      "       'genre29', 'genre30'],\n",
      "      dtype='object')\n"
     ]
    }
   ],
   "source": [
    "print(data.keys())"
   ]
  },
  {
   "cell_type": "code",
   "execution_count": null,
   "metadata": {},
   "outputs": [],
   "source": [
    "# depending on how the data is set up we will need to figure out how to classify the genre\n",
    "# keeping it general for now\n",
    "data['is_rnb'] = data['genre'].apply(lambda x: 1 if x == 'R&B' else 0)\n",
    "\n",
    "# once we decide which columns we want to drop from our features\n",
    "dropCols = ['genre', 'is_rnb']\n",
    "X = data.drop(columns=dropCols)\n",
    "\n",
    "# what we want to predict\n",
    "y = data['is_rnb']\n",
    "\n",
    "# train-test split of 80% training, 20% testing\n",
    "X_train, X_test, y_train, y_test = train_test_split(X, y, test_size=0.2, random_state=42)\n",
    "\n",
    "# Standardize the features (important for SVM)\n",
    "scaler = StandardScaler()\n",
    "X_train = scaler.fit_transform(X_train)\n",
    "X_test = scaler.transform(X_test)\n",
    "\n",
    "# there are many kernal options, we can choose from \n",
    "# {‘linear’, ‘poly’, ‘rbf’, ‘sigmoid’, ‘precomputed’} or callable\n",
    "svm_model = SVC(kernel='linear') \n",
    "\n",
    "# fit the model and predict\n",
    "svm_model.fit(X_train, y_train)\n",
    "y_pred = svm_model.predict(X_test)\n",
    "\n",
    "# output results\n",
    "print(f\"Accuracy: {accuracy_score(y_test, y_pred)}\")\n",
    "print(\"Classification Report:\")\n",
    "print(classification_report(y_test, y_pred))"
   ]
  },
  {
   "cell_type": "markdown",
   "metadata": {},
   "source": [
    "# functions to plot the trained model with X and y"
   ]
  },
  {
   "cell_type": "code",
   "execution_count": 28,
   "metadata": {},
   "outputs": [],
   "source": [
    "# this graphing of the model comes from Alex Thomo's SENG 474 class\n",
    "\n",
    "def plot_points(features, labels):\n",
    "    X = np.array(features)\n",
    "    y = np.array(labels)\n",
    "    spam = X[np.argwhere(y==1)]\n",
    "    ham = X[np.argwhere(y==0)]\n",
    "    plt.scatter([s[0][0] for s in spam],\n",
    "                   [s[0][1] for s in spam],\n",
    "                   s = 35,\n",
    "                   color = 'cyan',\n",
    "                   edgecolor = 'k',\n",
    "                   marker = '^')\n",
    "    plt.scatter([s[0][0] for s in ham],\n",
    "                   [s[0][1] for s in ham],\n",
    "                   s = 25,\n",
    "                   color = 'red',\n",
    "                   edgecolor = 'k',\n",
    "                   marker = 's')\n",
    "    plt.xlabel('x_1')\n",
    "    plt.ylabel('x_2')\n",
    "    plt.legend(['label 1','label 0'])\n",
    "\n",
    "def plot_model(X, y, model):\n",
    "    X = np.array(X)\n",
    "    y = np.array(y)\n",
    "    plot_step = 0.01\n",
    "    x_min, x_max = X[:, 0].min() - 1, X[:, 0].max() + 1\n",
    "    y_min, y_max = X[:, 1].min() - 1, X[:, 1].max() + 1\n",
    "    xx, yy = np.meshgrid(np.arange(x_min, x_max, plot_step),\n",
    "                         np.arange(y_min, y_max, plot_step))\n",
    "    Z = model.predict(np.c_[xx.ravel(), yy.ravel()])\n",
    "    Z = Z.reshape(xx.shape)\n",
    "    plt.contour(xx, yy, Z,colors = 'k',linewidths = 3)\n",
    "    plot_points(X, y)\n",
    "    plt.contourf(xx, yy, Z, colors=['red', 'blue'], alpha=0.2, levels=range(-1,2))\n",
    "    plt.show()"
   ]
  }
 ],
 "metadata": {
  "kernelspec": {
   "display_name": "base",
   "language": "python",
   "name": "python3"
  },
  "language_info": {
   "codemirror_mode": {
    "name": "ipython",
    "version": 3
   },
   "file_extension": ".py",
   "mimetype": "text/x-python",
   "name": "python",
   "nbconvert_exporter": "python",
   "pygments_lexer": "ipython3",
   "version": "3.12.2"
  }
 },
 "nbformat": 4,
 "nbformat_minor": 2
}
