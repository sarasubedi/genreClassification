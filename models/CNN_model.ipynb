{
  "nbformat": 4,
  "nbformat_minor": 0,
  "metadata": {
    "colab": {
      "provenance": [],
      "authorship_tag": "ABX9TyPf9AS652ZGFORaPM51gXZG"
    },
    "kernelspec": {
      "name": "python3",
      "display_name": "Python 3"
    },
    "language_info": {
      "name": "python"
    }
  },
  "cells": [
    {
      "cell_type": "markdown",
      "source": [
        "# Initialization"
      ],
      "metadata": {
        "id": "HtKZKxtnaF3c"
      }
    },
    {
      "cell_type": "code",
      "source": [
        "import os\n",
        "import json\n",
        "\n",
        "import numpy as np\n",
        "import pandas as pd\n",
        "import seaborn as sns\n",
        "import matplotlib.pyplot as plt\n",
        "\n",
        "import tensorflow as tf\n",
        "from tensorflow.keras import layers, models"
      ],
      "metadata": {
        "id": "bmfA1rAnwq-c"
      },
      "execution_count": null,
      "outputs": []
    },
    {
      "cell_type": "markdown",
      "source": [
        "# Dataset Initialization"
      ],
      "metadata": {
        "id": "D-hUfvtLW1zf"
      }
    },
    {
      "cell_type": "code",
      "source": [
        "datapath = '../data/acousticbrainz-mediaeval_labels_part_a'\n",
        "\n",
        "data_a = pd.read_csv(datapath + 'a', delimiter='\\t')\n",
        "data_b = pd.read_csv(datapath + 'b', delimiter='\\t')\n",
        "\n",
        "data = pd.concat([data_a, data_b], ignore_index=True)\n",
        "\n",
        "# labels the songs that are rnb as is_rnb\n",
        "data['is_rnb'] = data.filter(like='genre').apply(lambda x: x.astype(str).str.contains(r'R&B|rnb|r&b_soul|r\\'n\\'b', case=False, na=False)).any(axis=1).astype(int)\n",
        "\n",
        "data.keys()"
      ],
      "metadata": {
        "colab": {
          "base_uri": "https://localhost:8080/"
        },
        "id": "olVunS0JL9b4",
        "outputId": "22e1c525-0339-4f74-9032-d2c4b612f5e7"
      },
      "execution_count": null,
      "outputs": [
        {
          "output_type": "stream",
          "name": "stderr",
          "text": [
            "<ipython-input-14-737e8c0537c5>:3: DtypeWarning: Columns (15,16,17,18,19,20,21,22,23,24,25,26) have mixed types. Specify dtype option on import or set low_memory=False.\n",
            "  data_a = pd.read_csv(\"acousticbrainz-mediaeval_labels_part_aa.txt\", delimiter='\\t')\n",
            "<ipython-input-14-737e8c0537c5>:4: DtypeWarning: Columns (17,18,19,20,21,22,23,24,25,26,27,28,29,30,31) have mixed types. Specify dtype option on import or set low_memory=False.\n",
            "  data_b = pd.read_csv(\"acousticbrainz-mediaeval_labels_part_ab.txt\", delimiter='\\t')\n"
          ]
        },
        {
          "output_type": "execute_result",
          "data": {
            "text/plain": [
              "Index(['recordingmbid', 'releasegroupmbid', 'genre1', 'genre2', 'genre3',\n",
              "       'genre4', 'genre5', 'genre6', 'genre7', 'genre8', 'genre9', 'genre10',\n",
              "       'genre11', 'genre12', 'genre13', 'genre14', 'genre15', 'genre16',\n",
              "       'genre17', 'genre18', 'genre19', 'genre20', 'genre21', 'genre22',\n",
              "       'genre23', 'genre24', 'genre25', 'genre26', 'genre27', 'genre28',\n",
              "       'genre29', 'genre30', 'is_rnb'],\n",
              "      dtype='object')"
            ]
          },
          "metadata": {},
          "execution_count": 14
        }
      ]
    },
    {
      "cell_type": "code",
      "source": [
        "# only need the lables for if it is rnb and song identifier\n",
        "data_labeled = data[['recordingmbid', 'is_rnb']]\n",
        "print(data_labeled['is_rnb'].value_counts())"
      ],
      "metadata": {
        "id": "bVkAmy6GMawI",
        "colab": {
          "base_uri": "https://localhost:8080/"
        },
        "outputId": "6a3f55fc-ce58-48d4-8b92-d35d9bd534e4"
      },
      "execution_count": null,
      "outputs": [
        {
          "output_type": "stream",
          "name": "stdout",
          "text": [
            "is_rnb\n",
            "0    896896\n",
            "1      8048\n",
            "Name: count, dtype: int64\n"
          ]
        }
      ]
    },
    {
      "cell_type": "code",
      "source": [
        "print(data.shape)\n",
        "data.head()"
      ],
      "metadata": {
        "id": "hNFPgz7jcoAh"
      },
      "execution_count": null,
      "outputs": []
    },
    {
      "cell_type": "markdown",
      "source": [
        "# Feature Extraction\n",
        "Extraction process from the Load_data notebook. For more details, please look there."
      ],
      "metadata": {
        "id": "G-f-yVD_MhT6"
      }
    },
    {
      "cell_type": "code",
      "source": [
        "def extract_features_from_json(data):\n",
        "    try:\n",
        "        features = []\n",
        "\n",
        "        # Timbre\n",
        "        features += data['lowlevel']['mfcc']['mean']\n",
        "        features += data['lowlevel']['gfcc']['mean']\n",
        "        features.append(data['lowlevel']['hfc']['mean'])\n",
        "\n",
        "        # Tonal - Harmony\n",
        "        features.append(data['tonal']['chords_changes_rate'])\n",
        "\n",
        "        # Tonal - Scale (major=0, minor=1)\n",
        "        scale = data['tonal'].get('key_scale', 'major')\n",
        "        features.append(1 if scale == 'minor' else 0)\n",
        "\n",
        "        # Tonal - Pitch salience & dissonance\n",
        "        features.append(data['lowlevel']['pitch_salience']['mean'])\n",
        "        features.append(data['lowlevel']['dissonance']['mean'])\n",
        "\n",
        "        # Rhythm\n",
        "        features.append(data['rhythm']['bpm'])\n",
        "        features.append(data['rhythm']['onset_rate'])\n",
        "\n",
        "        # Spectrum\n",
        "        features.append(data['lowlevel']['spectral_centroid']['mean'])\n",
        "        features.append(data['lowlevel']['spectral_complexity']['mean'])\n",
        "        features.append(data['lowlevel']['spectral_rolloff']['mean'])\n",
        "        features.append(data['lowlevel']['spectral_flux']['mean'])\n",
        "        features.append(data['lowlevel']['zerocrossingrate']['mean'])\n",
        "\n",
        "        # Spectral contrast (6D, not contrast_coeffs)\n",
        "        features += data['lowlevel']['spectral_contrast_coeffs']['mean']\n",
        "\n",
        "        # Dynamics\n",
        "        features.append(data['lowlevel']['average_loudness'])\n",
        "        features.append(data['lowlevel']['dynamic_complexity'])\n",
        "\n",
        "        # Rhythm extension\n",
        "        features.append(data['rhythm']['beats_loudness']['mean'])\n",
        "\n",
        "        # Energy band shape\n",
        "        features.append(data['lowlevel']['spectral_energyband_low']['mean'])\n",
        "        features.append(data['lowlevel']['spectral_energyband_high']['mean'])\n",
        "\n",
        "        # Harmonic structure\n",
        "        features.append(data['tonal']['hpcp_entropy']['mean'])\n",
        "        features.append(data['tonal']['key_strength'])\n",
        "\n",
        "        # Tonal energy balance\n",
        "        features.append(data['lowlevel']['spectral_entropy']['mean'])\n",
        "        features.append(data['lowlevel']['spectral_strongpeak']['mean'])\n",
        "\n",
        "        return features\n",
        "    except KeyError as e:\n",
        "        print(f\"Missing key: {e}\")\n",
        "        return None\n",
        "\n",
        "def build_feature_labels(data_sample):\n",
        "    labels = []\n",
        "\n",
        "    labels += [f\"mfcc_{i}\" for i in range(len(data_sample['lowlevel']['mfcc']['mean']))]\n",
        "    labels += [f\"gfcc_{i}\" for i in range(len(data_sample['lowlevel']['gfcc']['mean']))]\n",
        "    labels += [\"hfc\"]\n",
        "    labels += [\"chords_changes_rate\"]\n",
        "\n",
        "    labels += [\"key_scale\"]\n",
        "    labels += [\"pitch_salience\"]\n",
        "    labels += [\"dissonance\"]\n",
        "    labels += [\"bpm\", \"onset_rate\"]\n",
        "    labels += [\"spectral_centroid\", \"spectral_complexity\", \"spectral_rolloff\", \"spectral_flux\", \"zerocrossingrate\"]\n",
        "    labels += [f\"spectral_contrast_{i}\" for i in range(len(data_sample['lowlevel']['spectral_contrast_coeffs']['mean']))]\n",
        "    labels += [\"average_loudness\", \"dynamic_complexity\"]\n",
        "\n",
        "    labels += [\"beats_loudness\"]\n",
        "    labels += [\"spectral_energyband_low\", \"spectral_energyband_high\"]\n",
        "    labels += [\"hpcp_entropy\", \"key_strength\"]\n",
        "    labels += [\"spectral_entropy\", \"spectral_strongpeak\"]\n",
        "\n",
        "    return labels\n",
        "\n",
        "def process_dataset(root_folder):\n",
        "    all_features = []\n",
        "    file_ids = []\n",
        "    labels_initialized = False\n",
        "    feature_labels = []\n",
        "\n",
        "    for subdir, _, files in os.walk(root_folder):\n",
        "        for file in files:\n",
        "            if file.endswith(\".json\"):\n",
        "                file_path = os.path.join(subdir, file)\n",
        "                try:\n",
        "                    with open(file_path, \"r\") as f:\n",
        "                        data = json.load(f)\n",
        "\n",
        "                    features = extract_features_from_json(data)\n",
        "                    if features is None:\n",
        "                        continue\n",
        "\n",
        "                    if not labels_initialized:\n",
        "                        feature_labels = build_feature_labels(data)\n",
        "                        labels_initialized = True\n",
        "\n",
        "                    all_features.append(features)\n",
        "                    file_ids.append(file.replace('.json', ''))\n",
        "\n",
        "                except Exception as e:\n",
        "                    print(f\"Failed on {file}: {e}\")\n",
        "\n",
        "    df = pd.DataFrame(all_features, columns=feature_labels)\n",
        "    df['recordingmbid'] = file_ids\n",
        "    return df"
      ],
      "metadata": {
        "id": "BYakLb8rMeYD"
      },
      "execution_count": null,
      "outputs": []
    },
    {
      "cell_type": "code",
      "source": [
        "# Extract JSON features\n",
        "folder_path = '../../data/acousticbrainz-mediaeval-train'\n",
        "data_features = process_dataset(folder_path)\n",
        "data_features.head()"
      ],
      "metadata": {
        "colab": {
          "base_uri": "https://localhost:8080/",
          "height": 315
        },
        "id": "kB3Jm_hvx7R1",
        "outputId": "79f490a5-f21b-496b-ec71-71c7b711539c"
      },
      "execution_count": null,
      "outputs": [
        {
          "output_type": "error",
          "ename": "NameError",
          "evalue": "name 'os' is not defined",
          "traceback": [
            "\u001b[0;31m---------------------------------------------------------------------------\u001b[0m",
            "\u001b[0;31mNameError\u001b[0m                                 Traceback (most recent call last)",
            "\u001b[0;32m<ipython-input-17-6bf3125062a8>\u001b[0m in \u001b[0;36m<cell line: 0>\u001b[0;34m()\u001b[0m\n\u001b[1;32m      1\u001b[0m \u001b[0;31m# Extract JSON features\u001b[0m\u001b[0;34m\u001b[0m\u001b[0;34m\u001b[0m\u001b[0m\n\u001b[1;32m      2\u001b[0m \u001b[0mfolder_path\u001b[0m \u001b[0;34m=\u001b[0m \u001b[0;34m'../../data/acousticbrainz-mediaeval-train'\u001b[0m\u001b[0;34m\u001b[0m\u001b[0;34m\u001b[0m\u001b[0m\n\u001b[0;32m----> 3\u001b[0;31m \u001b[0mdata_features\u001b[0m \u001b[0;34m=\u001b[0m \u001b[0mprocess_dataset\u001b[0m\u001b[0;34m(\u001b[0m\u001b[0mfolder_path\u001b[0m\u001b[0;34m)\u001b[0m\u001b[0;34m\u001b[0m\u001b[0;34m\u001b[0m\u001b[0m\n\u001b[0m\u001b[1;32m      4\u001b[0m \u001b[0mdata_features\u001b[0m\u001b[0;34m.\u001b[0m\u001b[0mhead\u001b[0m\u001b[0;34m(\u001b[0m\u001b[0;34m)\u001b[0m\u001b[0;34m\u001b[0m\u001b[0;34m\u001b[0m\u001b[0m\n",
            "\u001b[0;32m<ipython-input-16-b8ea652cc050>\u001b[0m in \u001b[0;36mprocess_dataset\u001b[0;34m(root_folder)\u001b[0m\n\u001b[1;32m     86\u001b[0m     \u001b[0mfeature_labels\u001b[0m \u001b[0;34m=\u001b[0m \u001b[0;34m[\u001b[0m\u001b[0;34m]\u001b[0m\u001b[0;34m\u001b[0m\u001b[0;34m\u001b[0m\u001b[0m\n\u001b[1;32m     87\u001b[0m \u001b[0;34m\u001b[0m\u001b[0m\n\u001b[0;32m---> 88\u001b[0;31m     \u001b[0;32mfor\u001b[0m \u001b[0msubdir\u001b[0m\u001b[0;34m,\u001b[0m \u001b[0m_\u001b[0m\u001b[0;34m,\u001b[0m \u001b[0mfiles\u001b[0m \u001b[0;32min\u001b[0m \u001b[0mos\u001b[0m\u001b[0;34m.\u001b[0m\u001b[0mwalk\u001b[0m\u001b[0;34m(\u001b[0m\u001b[0mroot_folder\u001b[0m\u001b[0;34m)\u001b[0m\u001b[0;34m:\u001b[0m\u001b[0;34m\u001b[0m\u001b[0;34m\u001b[0m\u001b[0m\n\u001b[0m\u001b[1;32m     89\u001b[0m         \u001b[0;32mfor\u001b[0m \u001b[0mfile\u001b[0m \u001b[0;32min\u001b[0m \u001b[0mfiles\u001b[0m\u001b[0;34m:\u001b[0m\u001b[0;34m\u001b[0m\u001b[0;34m\u001b[0m\u001b[0m\n\u001b[1;32m     90\u001b[0m             \u001b[0;32mif\u001b[0m \u001b[0mfile\u001b[0m\u001b[0;34m.\u001b[0m\u001b[0mendswith\u001b[0m\u001b[0;34m(\u001b[0m\u001b[0;34m\".json\"\u001b[0m\u001b[0;34m)\u001b[0m\u001b[0;34m:\u001b[0m\u001b[0;34m\u001b[0m\u001b[0;34m\u001b[0m\u001b[0m\n",
            "\u001b[0;31mNameError\u001b[0m: name 'os' is not defined"
          ]
        }
      ]
    },
    {
      "cell_type": "code",
      "source": [
        "merged_df = pd.merge(data_features, data_labeled, on=\"recordingmbid\", how=\"inner\")\n",
        "\n",
        "# Check results\n",
        "print(merged_df.head())\n",
        "print(\"Shape:\", merged_df.shape)\n",
        "print(\"Label value counts:\\n\", merged_df['is_rnb'].value_counts())\n",
        "\n",
        "merged_df.to_csv(\"rnb_features_labeled.csv\", index=False)"
      ],
      "metadata": {
        "id": "JVKbTKF8N1YB"
      },
      "execution_count": null,
      "outputs": []
    },
    {
      "cell_type": "code",
      "source": [
        "df = pd.read_csv(\"rnb_features_labeled.csv\")\n",
        "\n",
        "# load data for training\n",
        "train_data = df.drop(columns=['recordingmbid', 'is_rnb'])\n",
        "train_labels = df['is_rnb']"
      ],
      "metadata": {
        "id": "LIrFfml9N8Sq"
      },
      "execution_count": null,
      "outputs": []
    },
    {
      "cell_type": "code",
      "source": [
        "print(train_data)"
      ],
      "metadata": {
        "id": "8tjenrx4cx8S"
      },
      "execution_count": null,
      "outputs": []
    },
    {
      "cell_type": "code",
      "source": [
        "train_genre_labels = data['genre1']\n",
        "train_data = data.drop(['genre1'], axis=1)"
      ],
      "metadata": {
        "id": "vn4zEp_ny5hb"
      },
      "execution_count": null,
      "outputs": []
    },
    {
      "cell_type": "markdown",
      "source": [
        "# Histogram Creation"
      ],
      "metadata": {
        "id": "sO833f13c0oU"
      }
    },
    {
      "cell_type": "code",
      "source": [
        "histogram_data = [[] for i in range(111048)]\n",
        "\n",
        "for column in train_data:\n",
        "    for i in range(len(column)):\n",
        "        histogram_data[i].append(float(train_data.at[i, column]))"
      ],
      "metadata": {
        "id": "qJTJyAtAc1-O"
      },
      "execution_count": null,
      "outputs": []
    },
    {
      "cell_type": "code",
      "source": [
        "print(histogram_data[0])"
      ],
      "metadata": {
        "id": "0ttrc-llc3xL"
      },
      "execution_count": null,
      "outputs": []
    },
    {
      "cell_type": "code",
      "source": [
        "plt.hist(histogram_data[0])\n",
        "plt.show()"
      ],
      "metadata": {
        "id": "yRzeD9DZc5ZJ"
      },
      "execution_count": null,
      "outputs": []
    },
    {
      "cell_type": "code",
      "source": [
        "histograms = []\n",
        "\n",
        "for i in range(len(histogram_data)):\n",
        "    histogram = plt.hist(histogram_data[i])\n",
        "    histograms.append(histogram)"
      ],
      "metadata": {
        "id": "r8kBN5FRc7At"
      },
      "execution_count": null,
      "outputs": []
    },
    {
      "cell_type": "code",
      "source": [
        "print(histograms)\n",
        "\n",
        "plt.show(histograms[0])"
      ],
      "metadata": {
        "id": "2ChOvOCec8cJ"
      },
      "execution_count": null,
      "outputs": []
    },
    {
      "cell_type": "markdown",
      "source": [
        "# CNN Model"
      ],
      "metadata": {
        "id": "2vdNsobMpnac"
      }
    },
    {
      "cell_type": "code",
      "source": [
        "# model definition\n",
        "CNN_model = models.Sequential([\n",
        "    layers.Conv2D(32, (3,3), activation='relu'),\n",
        "    layers.MaxPooling2D((2,2)),\n",
        "    layers.Conv2D(64, (3,3), activation='relu'),\n",
        "    layers.MaxPooling2D((2,2)),\n",
        "    layers.Conv2D(128, (3,3), activation='relu'),\n",
        "    layers.MaxPooling2D((2,2)),\n",
        "\n",
        "    layers.Flatten(),\n",
        "    layers.Dense(128),\n",
        "    layers.Dense(30)\n",
        "])"
      ],
      "metadata": {
        "id": "aiuevWzKDubC"
      },
      "execution_count": null,
      "outputs": []
    },
    {
      "cell_type": "code",
      "source": [
        "# model compilation\n",
        "loss = tf.keras.losses.SparseCategoricalCrossentropy(from_logits=True)\n",
        "CNN_model.compile(optimizer='adam', metrics=['accuracy'], loss=loss)"
      ],
      "metadata": {
        "id": "51xB-_oOEkYo"
      },
      "execution_count": null,
      "outputs": []
    },
    {
      "cell_type": "code",
      "source": [
        "# model summary\n",
        "CNN_model.summary()"
      ],
      "metadata": {
        "colab": {
          "base_uri": "https://localhost:8080/",
          "height": 442
        },
        "id": "HmITAYmqFZMn",
        "outputId": "bcbe70ca-078a-4c19-de3b-9a3d81cefeb5"
      },
      "execution_count": null,
      "outputs": [
        {
          "output_type": "display_data",
          "data": {
            "text/plain": [
              "\u001b[1mModel: \"sequential_3\"\u001b[0m\n"
            ],
            "text/html": [
              "<pre style=\"white-space:pre;overflow-x:auto;line-height:normal;font-family:Menlo,'DejaVu Sans Mono',consolas,'Courier New',monospace\"><span style=\"font-weight: bold\">Model: \"sequential_3\"</span>\n",
              "</pre>\n"
            ]
          },
          "metadata": {}
        },
        {
          "output_type": "display_data",
          "data": {
            "text/plain": [
              "┏━━━━━━━━━━━━━━━━━━━━━━━━━━━━━━━━━━━━━━┳━━━━━━━━━━━━━━━━━━━━━━━━━━━━━┳━━━━━━━━━━━━━━━━━┓\n",
              "┃\u001b[1m \u001b[0m\u001b[1mLayer (type)                        \u001b[0m\u001b[1m \u001b[0m┃\u001b[1m \u001b[0m\u001b[1mOutput Shape               \u001b[0m\u001b[1m \u001b[0m┃\u001b[1m \u001b[0m\u001b[1m        Param #\u001b[0m\u001b[1m \u001b[0m┃\n",
              "┡━━━━━━━━━━━━━━━━━━━━━━━━━━━━━━━━━━━━━━╇━━━━━━━━━━━━━━━━━━━━━━━━━━━━━╇━━━━━━━━━━━━━━━━━┩\n",
              "│ conv2d_8 (\u001b[38;5;33mConv2D\u001b[0m)                    │ ?                           │     \u001b[38;5;34m0\u001b[0m (unbuilt) │\n",
              "├──────────────────────────────────────┼─────────────────────────────┼─────────────────┤\n",
              "│ max_pooling2d_8 (\u001b[38;5;33mMaxPooling2D\u001b[0m)       │ ?                           │               \u001b[38;5;34m0\u001b[0m │\n",
              "├──────────────────────────────────────┼─────────────────────────────┼─────────────────┤\n",
              "│ conv2d_9 (\u001b[38;5;33mConv2D\u001b[0m)                    │ ?                           │     \u001b[38;5;34m0\u001b[0m (unbuilt) │\n",
              "├──────────────────────────────────────┼─────────────────────────────┼─────────────────┤\n",
              "│ max_pooling2d_9 (\u001b[38;5;33mMaxPooling2D\u001b[0m)       │ ?                           │               \u001b[38;5;34m0\u001b[0m │\n",
              "├──────────────────────────────────────┼─────────────────────────────┼─────────────────┤\n",
              "│ conv2d_10 (\u001b[38;5;33mConv2D\u001b[0m)                   │ ?                           │     \u001b[38;5;34m0\u001b[0m (unbuilt) │\n",
              "├──────────────────────────────────────┼─────────────────────────────┼─────────────────┤\n",
              "│ max_pooling2d_10 (\u001b[38;5;33mMaxPooling2D\u001b[0m)      │ ?                           │               \u001b[38;5;34m0\u001b[0m │\n",
              "├──────────────────────────────────────┼─────────────────────────────┼─────────────────┤\n",
              "│ flatten_3 (\u001b[38;5;33mFlatten\u001b[0m)                  │ ?                           │     \u001b[38;5;34m0\u001b[0m (unbuilt) │\n",
              "├──────────────────────────────────────┼─────────────────────────────┼─────────────────┤\n",
              "│ dense_6 (\u001b[38;5;33mDense\u001b[0m)                      │ ?                           │     \u001b[38;5;34m0\u001b[0m (unbuilt) │\n",
              "├──────────────────────────────────────┼─────────────────────────────┼─────────────────┤\n",
              "│ dense_7 (\u001b[38;5;33mDense\u001b[0m)                      │ ?                           │     \u001b[38;5;34m0\u001b[0m (unbuilt) │\n",
              "└──────────────────────────────────────┴─────────────────────────────┴─────────────────┘\n"
            ],
            "text/html": [
              "<pre style=\"white-space:pre;overflow-x:auto;line-height:normal;font-family:Menlo,'DejaVu Sans Mono',consolas,'Courier New',monospace\">┏━━━━━━━━━━━━━━━━━━━━━━━━━━━━━━━━━━━━━━┳━━━━━━━━━━━━━━━━━━━━━━━━━━━━━┳━━━━━━━━━━━━━━━━━┓\n",
              "┃<span style=\"font-weight: bold\"> Layer (type)                         </span>┃<span style=\"font-weight: bold\"> Output Shape                </span>┃<span style=\"font-weight: bold\">         Param # </span>┃\n",
              "┡━━━━━━━━━━━━━━━━━━━━━━━━━━━━━━━━━━━━━━╇━━━━━━━━━━━━━━━━━━━━━━━━━━━━━╇━━━━━━━━━━━━━━━━━┩\n",
              "│ conv2d_8 (<span style=\"color: #0087ff; text-decoration-color: #0087ff\">Conv2D</span>)                    │ ?                           │     <span style=\"color: #00af00; text-decoration-color: #00af00\">0</span> (unbuilt) │\n",
              "├──────────────────────────────────────┼─────────────────────────────┼─────────────────┤\n",
              "│ max_pooling2d_8 (<span style=\"color: #0087ff; text-decoration-color: #0087ff\">MaxPooling2D</span>)       │ ?                           │               <span style=\"color: #00af00; text-decoration-color: #00af00\">0</span> │\n",
              "├──────────────────────────────────────┼─────────────────────────────┼─────────────────┤\n",
              "│ conv2d_9 (<span style=\"color: #0087ff; text-decoration-color: #0087ff\">Conv2D</span>)                    │ ?                           │     <span style=\"color: #00af00; text-decoration-color: #00af00\">0</span> (unbuilt) │\n",
              "├──────────────────────────────────────┼─────────────────────────────┼─────────────────┤\n",
              "│ max_pooling2d_9 (<span style=\"color: #0087ff; text-decoration-color: #0087ff\">MaxPooling2D</span>)       │ ?                           │               <span style=\"color: #00af00; text-decoration-color: #00af00\">0</span> │\n",
              "├──────────────────────────────────────┼─────────────────────────────┼─────────────────┤\n",
              "│ conv2d_10 (<span style=\"color: #0087ff; text-decoration-color: #0087ff\">Conv2D</span>)                   │ ?                           │     <span style=\"color: #00af00; text-decoration-color: #00af00\">0</span> (unbuilt) │\n",
              "├──────────────────────────────────────┼─────────────────────────────┼─────────────────┤\n",
              "│ max_pooling2d_10 (<span style=\"color: #0087ff; text-decoration-color: #0087ff\">MaxPooling2D</span>)      │ ?                           │               <span style=\"color: #00af00; text-decoration-color: #00af00\">0</span> │\n",
              "├──────────────────────────────────────┼─────────────────────────────┼─────────────────┤\n",
              "│ flatten_3 (<span style=\"color: #0087ff; text-decoration-color: #0087ff\">Flatten</span>)                  │ ?                           │     <span style=\"color: #00af00; text-decoration-color: #00af00\">0</span> (unbuilt) │\n",
              "├──────────────────────────────────────┼─────────────────────────────┼─────────────────┤\n",
              "│ dense_6 (<span style=\"color: #0087ff; text-decoration-color: #0087ff\">Dense</span>)                      │ ?                           │     <span style=\"color: #00af00; text-decoration-color: #00af00\">0</span> (unbuilt) │\n",
              "├──────────────────────────────────────┼─────────────────────────────┼─────────────────┤\n",
              "│ dense_7 (<span style=\"color: #0087ff; text-decoration-color: #0087ff\">Dense</span>)                      │ ?                           │     <span style=\"color: #00af00; text-decoration-color: #00af00\">0</span> (unbuilt) │\n",
              "└──────────────────────────────────────┴─────────────────────────────┴─────────────────┘\n",
              "</pre>\n"
            ]
          },
          "metadata": {}
        },
        {
          "output_type": "display_data",
          "data": {
            "text/plain": [
              "\u001b[1m Total params: \u001b[0m\u001b[38;5;34m0\u001b[0m (0.00 B)\n"
            ],
            "text/html": [
              "<pre style=\"white-space:pre;overflow-x:auto;line-height:normal;font-family:Menlo,'DejaVu Sans Mono',consolas,'Courier New',monospace\"><span style=\"font-weight: bold\"> Total params: </span><span style=\"color: #00af00; text-decoration-color: #00af00\">0</span> (0.00 B)\n",
              "</pre>\n"
            ]
          },
          "metadata": {}
        },
        {
          "output_type": "display_data",
          "data": {
            "text/plain": [
              "\u001b[1m Trainable params: \u001b[0m\u001b[38;5;34m0\u001b[0m (0.00 B)\n"
            ],
            "text/html": [
              "<pre style=\"white-space:pre;overflow-x:auto;line-height:normal;font-family:Menlo,'DejaVu Sans Mono',consolas,'Courier New',monospace\"><span style=\"font-weight: bold\"> Trainable params: </span><span style=\"color: #00af00; text-decoration-color: #00af00\">0</span> (0.00 B)\n",
              "</pre>\n"
            ]
          },
          "metadata": {}
        },
        {
          "output_type": "display_data",
          "data": {
            "text/plain": [
              "\u001b[1m Non-trainable params: \u001b[0m\u001b[38;5;34m0\u001b[0m (0.00 B)\n"
            ],
            "text/html": [
              "<pre style=\"white-space:pre;overflow-x:auto;line-height:normal;font-family:Menlo,'DejaVu Sans Mono',consolas,'Courier New',monospace\"><span style=\"font-weight: bold\"> Non-trainable params: </span><span style=\"color: #00af00; text-decoration-color: #00af00\">0</span> (0.00 B)\n",
              "</pre>\n"
            ]
          },
          "metadata": {}
        }
      ]
    },
    {
      "cell_type": "markdown",
      "source": [
        "# CNN Training"
      ],
      "metadata": {
        "id": "r_XGXp9QTk6S"
      }
    },
    {
      "cell_type": "code",
      "source": [
        "history = CNN_model.fit(train_data, train_labels, epochs=5)"
      ],
      "metadata": {
        "id": "ErR_jD-tTrnl"
      },
      "execution_count": null,
      "outputs": []
    },
    {
      "cell_type": "markdown",
      "source": [
        "# Model Evaluation"
      ],
      "metadata": {
        "id": "EzmKDW6aVoxa"
      }
    },
    {
      "cell_type": "code",
      "source": [
        "test_loss, test_acc = CNN_model.evaluate(train_data, train__labels)\n",
        "print(f'Test accuracy: {test_acc:.2f}')"
      ],
      "metadata": {
        "id": "DoZr3mrEVudD"
      },
      "execution_count": null,
      "outputs": []
    },
    {
      "cell_type": "markdown",
      "source": [
        "# Song Prediction"
      ],
      "metadata": {
        "id": "ZLf5WNzSV6dJ"
      }
    },
    {
      "cell_type": "code",
      "source": [
        "prediction = CNN_model.predict(np.expand_dims(train_data[0]), axis=0)\n",
        "prediction = np.argmax(prediction)\n",
        "print(f'Predicted genre: {prediction}')"
      ],
      "metadata": {
        "id": "n5xFJulOWGap"
      },
      "execution_count": null,
      "outputs": []
    }
  ]
}